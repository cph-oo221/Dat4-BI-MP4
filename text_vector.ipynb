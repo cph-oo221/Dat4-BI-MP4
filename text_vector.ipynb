{
 "cells": [
  {
   "cell_type": "markdown",
   "metadata": {},
   "source": [
    "# Text Vectorizaion"
   ]
  },
  {
   "cell_type": "code",
   "execution_count": 4,
   "metadata": {},
   "outputs": [],
   "source": [
    "import pandas as pd\n",
    "import numpy as np\n",
    "from sklearn.feature_extraction.text import TfidfVectorizer\n",
    "from sklearn.metrics.pairwise import linear_kernel"
   ]
  },
  {
   "cell_type": "code",
   "execution_count": 5,
   "metadata": {},
   "outputs": [],
   "source": [
    "\n",
    "path = 'data/articles.csv'\n",
    "df = pd.read_csv(path)"
   ]
  },
  {
   "cell_type": "markdown",
   "metadata": {},
   "source": [
    "## Data cleaning"
   ]
  },
  {
   "cell_type": "code",
   "execution_count": 6,
   "metadata": {},
   "outputs": [
    {
     "data": {
      "text/html": [
       "<div>\n",
       "<style scoped>\n",
       "    .dataframe tbody tr th:only-of-type {\n",
       "        vertical-align: middle;\n",
       "    }\n",
       "\n",
       "    .dataframe tbody tr th {\n",
       "        vertical-align: top;\n",
       "    }\n",
       "\n",
       "    .dataframe thead th {\n",
       "        text-align: right;\n",
       "    }\n",
       "</style>\n",
       "<table border=\"1\" class=\"dataframe\">\n",
       "  <thead>\n",
       "    <tr style=\"text-align: right;\">\n",
       "      <th></th>\n",
       "      <th>author</th>\n",
       "      <th>claps</th>\n",
       "      <th>reading_time</th>\n",
       "      <th>link</th>\n",
       "      <th>title</th>\n",
       "      <th>text</th>\n",
       "    </tr>\n",
       "  </thead>\n",
       "  <tbody>\n",
       "    <tr>\n",
       "      <th>0</th>\n",
       "      <td>Justin Lee</td>\n",
       "      <td>8.3K</td>\n",
       "      <td>11</td>\n",
       "      <td>https://medium.com/swlh/chatbots-were-the-next...</td>\n",
       "      <td>Chatbots were the next big thing: what happene...</td>\n",
       "      <td>Oh, how the headlines blared:\\nChatbots were T...</td>\n",
       "    </tr>\n",
       "    <tr>\n",
       "      <th>1</th>\n",
       "      <td>Conor Dewey</td>\n",
       "      <td>1.4K</td>\n",
       "      <td>7</td>\n",
       "      <td>https://towardsdatascience.com/python-for-data...</td>\n",
       "      <td>Python for Data Science: 8 Concepts You May Ha...</td>\n",
       "      <td>If you’ve ever found yourself looking up the s...</td>\n",
       "    </tr>\n",
       "    <tr>\n",
       "      <th>2</th>\n",
       "      <td>William Koehrsen</td>\n",
       "      <td>2.8K</td>\n",
       "      <td>11</td>\n",
       "      <td>https://towardsdatascience.com/automated-featu...</td>\n",
       "      <td>Automated Feature Engineering in Python – Towa...</td>\n",
       "      <td>Machine learning is increasingly moving from h...</td>\n",
       "    </tr>\n",
       "    <tr>\n",
       "      <th>3</th>\n",
       "      <td>Gant Laborde</td>\n",
       "      <td>1.3K</td>\n",
       "      <td>7</td>\n",
       "      <td>https://medium.freecodecamp.org/machine-learni...</td>\n",
       "      <td>Machine Learning: how to go from Zero to Hero ...</td>\n",
       "      <td>If your understanding of A.I. and Machine Lear...</td>\n",
       "    </tr>\n",
       "    <tr>\n",
       "      <th>4</th>\n",
       "      <td>Emmanuel Ameisen</td>\n",
       "      <td>935</td>\n",
       "      <td>11</td>\n",
       "      <td>https://blog.insightdatascience.com/reinforcem...</td>\n",
       "      <td>Reinforcement Learning from scratch – Insight ...</td>\n",
       "      <td>Want to learn about applied Artificial Intelli...</td>\n",
       "    </tr>\n",
       "  </tbody>\n",
       "</table>\n",
       "</div>"
      ],
      "text/plain": [
       "             author claps  reading_time  \\\n",
       "0        Justin Lee  8.3K            11   \n",
       "1       Conor Dewey  1.4K             7   \n",
       "2  William Koehrsen  2.8K            11   \n",
       "3      Gant Laborde  1.3K             7   \n",
       "4  Emmanuel Ameisen   935            11   \n",
       "\n",
       "                                                link  \\\n",
       "0  https://medium.com/swlh/chatbots-were-the-next...   \n",
       "1  https://towardsdatascience.com/python-for-data...   \n",
       "2  https://towardsdatascience.com/automated-featu...   \n",
       "3  https://medium.freecodecamp.org/machine-learni...   \n",
       "4  https://blog.insightdatascience.com/reinforcem...   \n",
       "\n",
       "                                               title  \\\n",
       "0  Chatbots were the next big thing: what happene...   \n",
       "1  Python for Data Science: 8 Concepts You May Ha...   \n",
       "2  Automated Feature Engineering in Python – Towa...   \n",
       "3  Machine Learning: how to go from Zero to Hero ...   \n",
       "4  Reinforcement Learning from scratch – Insight ...   \n",
       "\n",
       "                                                text  \n",
       "0  Oh, how the headlines blared:\\nChatbots were T...  \n",
       "1  If you’ve ever found yourself looking up the s...  \n",
       "2  Machine learning is increasingly moving from h...  \n",
       "3  If your understanding of A.I. and Machine Lear...  \n",
       "4  Want to learn about applied Artificial Intelli...  "
      ]
     },
     "execution_count": 6,
     "metadata": {},
     "output_type": "execute_result"
    }
   ],
   "source": [
    "df.head()"
   ]
  },
  {
   "cell_type": "code",
   "execution_count": 7,
   "metadata": {},
   "outputs": [
    {
     "name": "stdout",
     "output_type": "stream",
     "text": [
      "<class 'pandas.core.frame.DataFrame'>\n",
      "RangeIndex: 337 entries, 0 to 336\n",
      "Data columns (total 6 columns):\n",
      " #   Column        Non-Null Count  Dtype \n",
      "---  ------        --------------  ----- \n",
      " 0   author        337 non-null    object\n",
      " 1   claps         337 non-null    object\n",
      " 2   reading_time  337 non-null    int64 \n",
      " 3   link          337 non-null    object\n",
      " 4   title         337 non-null    object\n",
      " 5   text          337 non-null    object\n",
      "dtypes: int64(1), object(5)\n",
      "memory usage: 15.9+ KB\n"
     ]
    }
   ],
   "source": [
    "df.info()"
   ]
  },
  {
   "cell_type": "code",
   "execution_count": 8,
   "metadata": {},
   "outputs": [
    {
     "data": {
      "text/plain": [
       "author          0\n",
       "claps           0\n",
       "reading_time    0\n",
       "link            0\n",
       "title           0\n",
       "text            0\n",
       "dtype: int64"
      ]
     },
     "execution_count": 8,
     "metadata": {},
     "output_type": "execute_result"
    }
   ],
   "source": [
    "df.isnull().sum()"
   ]
  },
  {
   "cell_type": "code",
   "execution_count": 9,
   "metadata": {},
   "outputs": [
    {
     "data": {
      "text/html": [
       "<div>\n",
       "<style scoped>\n",
       "    .dataframe tbody tr th:only-of-type {\n",
       "        vertical-align: middle;\n",
       "    }\n",
       "\n",
       "    .dataframe tbody tr th {\n",
       "        vertical-align: top;\n",
       "    }\n",
       "\n",
       "    .dataframe thead th {\n",
       "        text-align: right;\n",
       "    }\n",
       "</style>\n",
       "<table border=\"1\" class=\"dataframe\">\n",
       "  <thead>\n",
       "    <tr style=\"text-align: right;\">\n",
       "      <th></th>\n",
       "      <th>author</th>\n",
       "      <th>claps</th>\n",
       "      <th>reading_time</th>\n",
       "      <th>link</th>\n",
       "      <th>title</th>\n",
       "      <th>text</th>\n",
       "    </tr>\n",
       "  </thead>\n",
       "  <tbody>\n",
       "    <tr>\n",
       "      <th>0</th>\n",
       "      <td>Justin Lee</td>\n",
       "      <td>8.3K</td>\n",
       "      <td>11</td>\n",
       "      <td>https://medium.com/swlh/chatbots-were-the-next...</td>\n",
       "      <td>Chatbots were the next big thing: what happene...</td>\n",
       "      <td>Oh, how the headlines blared: Chatbots were Th...</td>\n",
       "    </tr>\n",
       "    <tr>\n",
       "      <th>1</th>\n",
       "      <td>Conor Dewey</td>\n",
       "      <td>1.4K</td>\n",
       "      <td>7</td>\n",
       "      <td>https://towardsdatascience.com/python-for-data...</td>\n",
       "      <td>Python for Data Science: 8 Concepts You May Ha...</td>\n",
       "      <td>If you’ve ever found yourself looking up the s...</td>\n",
       "    </tr>\n",
       "    <tr>\n",
       "      <th>2</th>\n",
       "      <td>William Koehrsen</td>\n",
       "      <td>2.8K</td>\n",
       "      <td>11</td>\n",
       "      <td>https://towardsdatascience.com/automated-featu...</td>\n",
       "      <td>Automated Feature Engineering in Python – Towa...</td>\n",
       "      <td>Machine learning is increasingly moving from h...</td>\n",
       "    </tr>\n",
       "    <tr>\n",
       "      <th>3</th>\n",
       "      <td>Gant Laborde</td>\n",
       "      <td>1.3K</td>\n",
       "      <td>7</td>\n",
       "      <td>https://medium.freecodecamp.org/machine-learni...</td>\n",
       "      <td>Machine Learning: how to go from Zero to Hero ...</td>\n",
       "      <td>If your understanding of A.I. and Machine Lear...</td>\n",
       "    </tr>\n",
       "    <tr>\n",
       "      <th>4</th>\n",
       "      <td>Emmanuel Ameisen</td>\n",
       "      <td>935</td>\n",
       "      <td>11</td>\n",
       "      <td>https://blog.insightdatascience.com/reinforcem...</td>\n",
       "      <td>Reinforcement Learning from scratch – Insight ...</td>\n",
       "      <td>Want to learn about applied Artificial Intelli...</td>\n",
       "    </tr>\n",
       "    <tr>\n",
       "      <th>...</th>\n",
       "      <td>...</td>\n",
       "      <td>...</td>\n",
       "      <td>...</td>\n",
       "      <td>...</td>\n",
       "      <td>...</td>\n",
       "      <td>...</td>\n",
       "    </tr>\n",
       "    <tr>\n",
       "      <th>332</th>\n",
       "      <td>Daniel Simmons</td>\n",
       "      <td>3.4K</td>\n",
       "      <td>8</td>\n",
       "      <td>https://itnext.io/you-can-build-a-neural-netwo...</td>\n",
       "      <td>You can build a neural network in JavaScript e...</td>\n",
       "      <td>Click here to share this article on LinkedIn »...</td>\n",
       "    </tr>\n",
       "    <tr>\n",
       "      <th>333</th>\n",
       "      <td>Eugenio Culurciello</td>\n",
       "      <td>2.8K</td>\n",
       "      <td>13</td>\n",
       "      <td>https://towardsdatascience.com/artificial-inte...</td>\n",
       "      <td>Artificial Intelligence, AI in 2018 and beyond...</td>\n",
       "      <td>These are my opinions on where deep neural net...</td>\n",
       "    </tr>\n",
       "    <tr>\n",
       "      <th>334</th>\n",
       "      <td>Devin Soni</td>\n",
       "      <td>5.8K</td>\n",
       "      <td>4</td>\n",
       "      <td>https://towardsdatascience.com/spiking-neural-...</td>\n",
       "      <td>Spiking Neural Networks, the Next Generation o...</td>\n",
       "      <td>Everyone who has been remotely tuned in to rec...</td>\n",
       "    </tr>\n",
       "    <tr>\n",
       "      <th>335</th>\n",
       "      <td>Carlos E. Perez</td>\n",
       "      <td>3.9K</td>\n",
       "      <td>7</td>\n",
       "      <td>https://medium.com/intuitionmachine/neurons-ar...</td>\n",
       "      <td>Surprise! Neurons are Now More Complex than We...</td>\n",
       "      <td>One of the biggest misconceptions around is th...</td>\n",
       "    </tr>\n",
       "    <tr>\n",
       "      <th>336</th>\n",
       "      <td>Nityesh Agarwal</td>\n",
       "      <td>2.4K</td>\n",
       "      <td>13</td>\n",
       "      <td>https://towardsdatascience.com/wth-does-a-neur...</td>\n",
       "      <td>“WTH does a neural network even learn??” — a n...</td>\n",
       "      <td>I believe, we all have that psychologist/philo...</td>\n",
       "    </tr>\n",
       "  </tbody>\n",
       "</table>\n",
       "<p>337 rows × 6 columns</p>\n",
       "</div>"
      ],
      "text/plain": [
       "                  author claps  reading_time  \\\n",
       "0             Justin Lee  8.3K            11   \n",
       "1            Conor Dewey  1.4K             7   \n",
       "2       William Koehrsen  2.8K            11   \n",
       "3           Gant Laborde  1.3K             7   \n",
       "4       Emmanuel Ameisen   935            11   \n",
       "..                   ...   ...           ...   \n",
       "332       Daniel Simmons  3.4K             8   \n",
       "333  Eugenio Culurciello  2.8K            13   \n",
       "334           Devin Soni  5.8K             4   \n",
       "335      Carlos E. Perez  3.9K             7   \n",
       "336      Nityesh Agarwal  2.4K            13   \n",
       "\n",
       "                                                  link  \\\n",
       "0    https://medium.com/swlh/chatbots-were-the-next...   \n",
       "1    https://towardsdatascience.com/python-for-data...   \n",
       "2    https://towardsdatascience.com/automated-featu...   \n",
       "3    https://medium.freecodecamp.org/machine-learni...   \n",
       "4    https://blog.insightdatascience.com/reinforcem...   \n",
       "..                                                 ...   \n",
       "332  https://itnext.io/you-can-build-a-neural-netwo...   \n",
       "333  https://towardsdatascience.com/artificial-inte...   \n",
       "334  https://towardsdatascience.com/spiking-neural-...   \n",
       "335  https://medium.com/intuitionmachine/neurons-ar...   \n",
       "336  https://towardsdatascience.com/wth-does-a-neur...   \n",
       "\n",
       "                                                 title  \\\n",
       "0    Chatbots were the next big thing: what happene...   \n",
       "1    Python for Data Science: 8 Concepts You May Ha...   \n",
       "2    Automated Feature Engineering in Python – Towa...   \n",
       "3    Machine Learning: how to go from Zero to Hero ...   \n",
       "4    Reinforcement Learning from scratch – Insight ...   \n",
       "..                                                 ...   \n",
       "332  You can build a neural network in JavaScript e...   \n",
       "333  Artificial Intelligence, AI in 2018 and beyond...   \n",
       "334  Spiking Neural Networks, the Next Generation o...   \n",
       "335  Surprise! Neurons are Now More Complex than We...   \n",
       "336  “WTH does a neural network even learn??” — a n...   \n",
       "\n",
       "                                                  text  \n",
       "0    Oh, how the headlines blared: Chatbots were Th...  \n",
       "1    If you’ve ever found yourself looking up the s...  \n",
       "2    Machine learning is increasingly moving from h...  \n",
       "3    If your understanding of A.I. and Machine Lear...  \n",
       "4    Want to learn about applied Artificial Intelli...  \n",
       "..                                                 ...  \n",
       "332  Click here to share this article on LinkedIn »...  \n",
       "333  These are my opinions on where deep neural net...  \n",
       "334  Everyone who has been remotely tuned in to rec...  \n",
       "335  One of the biggest misconceptions around is th...  \n",
       "336  I believe, we all have that psychologist/philo...  \n",
       "\n",
       "[337 rows x 6 columns]"
      ]
     },
     "execution_count": 9,
     "metadata": {},
     "output_type": "execute_result"
    }
   ],
   "source": [
    "df['text'] = df['text'].apply(lambda x: x.replace('\\n', ' '))\n",
    "df"
   ]
  },
  {
   "cell_type": "code",
   "execution_count": 10,
   "metadata": {},
   "outputs": [],
   "source": [
    "# save cleaned data\n",
    "df.to_csv('data/cleaned_articles.csv', index=False)"
   ]
  },
  {
   "cell_type": "markdown",
   "metadata": {},
   "source": [
    "## Vectorize text"
   ]
  },
  {
   "cell_type": "code",
   "execution_count": 11,
   "metadata": {},
   "outputs": [
    {
     "data": {
      "text/plain": [
       "(337, 20095)"
      ]
     },
     "execution_count": 11,
     "metadata": {},
     "output_type": "execute_result"
    }
   ],
   "source": [
    "# Define a TF-IDF Vectorizer Object, while removing all english stop words such as 'the', 'a', ...\n",
    "tfidf = TfidfVectorizer(stop_words='english')\n",
    "\n",
    "# Construct the required TF-IDF matrix by fitting and transforming the data\n",
    "tfidf_matrix = tfidf.fit_transform(df['text'])\n",
    "tfidf_matrix.shape"
   ]
  },
  {
   "cell_type": "code",
   "execution_count": 12,
   "metadata": {},
   "outputs": [
    {
     "name": "stdout",
     "output_type": "stream",
     "text": [
      "[[1.         0.06265938 0.03636636 ... 0.03262549 0.06377183 0.06731326]\n",
      " [0.06265938 1.         0.16808102 ... 0.03386742 0.04663115 0.07390585]\n",
      " [0.03636636 0.16808102 1.         ... 0.03861725 0.04874319 0.10531746]\n",
      " ...\n",
      " [0.03262549 0.03386742 0.03861725 ... 1.         0.18912234 0.09062875]\n",
      " [0.06377183 0.04663115 0.04874319 ... 0.18912234 1.         0.15074329]\n",
      " [0.06731326 0.07390585 0.10531746 ... 0.09062875 0.15074329 1.        ]]\n"
     ]
    }
   ],
   "source": [
    "cosine_sim = linear_kernel(tfidf_matrix, tfidf_matrix)\n",
    "print(cosine_sim)"
   ]
  },
  {
   "cell_type": "code",
   "execution_count": 13,
   "metadata": {},
   "outputs": [],
   "source": [
    "def get_similars(text, cosine_sim=cosine_sim):\n",
    "    text = text.lower()\n",
    "\n",
    "    idx = []\n",
    "\n",
    "    # iterate over articles, and add their index if content contains substring\n",
    "    for i in range(len(df)):\n",
    "        if text in df['text'][i].lower():\n",
    "            idx.append(i)\n",
    "\n",
    "    # Get the pairwsie similarity scores of all articles with that text\n",
    "    sim_scores = list(enumerate(cosine_sim[idx]))\n",
    "\n",
    "    # Sort the articles based on the similarity scores\n",
    "    sim_scores = sorted(sim_scores, reverse=True)\n",
    "\n",
    "    # Get the scores of the 3 most similar articles\n",
    "    sim_scores = sim_scores[1:4]\n",
    "\n",
    "    # Get the article indices\n",
    "    article_indices = [i[0] for i in sim_scores]\n",
    "    print(article_indices)\n",
    "\n",
    "    if article_indices == []:\n",
    "        return None\n",
    "    # Return the top 3 most similar articles\n",
    "    return df.iloc[article_indices]"
   ]
  },
  {
   "cell_type": "code",
   "execution_count": 14,
   "metadata": {},
   "outputs": [
    {
     "name": "stdout",
     "output_type": "stream",
     "text": [
      "[72, 71, 70]\n"
     ]
    },
    {
     "data": {
      "text/html": [
       "<div>\n",
       "<style scoped>\n",
       "    .dataframe tbody tr th:only-of-type {\n",
       "        vertical-align: middle;\n",
       "    }\n",
       "\n",
       "    .dataframe tbody tr th {\n",
       "        vertical-align: top;\n",
       "    }\n",
       "\n",
       "    .dataframe thead th {\n",
       "        text-align: right;\n",
       "    }\n",
       "</style>\n",
       "<table border=\"1\" class=\"dataframe\">\n",
       "  <thead>\n",
       "    <tr style=\"text-align: right;\">\n",
       "      <th></th>\n",
       "      <th>author</th>\n",
       "      <th>claps</th>\n",
       "      <th>reading_time</th>\n",
       "      <th>link</th>\n",
       "      <th>title</th>\n",
       "      <th>text</th>\n",
       "    </tr>\n",
       "  </thead>\n",
       "  <tbody>\n",
       "    <tr>\n",
       "      <th>72</th>\n",
       "      <td>Andrej Karpathy</td>\n",
       "      <td>35K</td>\n",
       "      <td>8</td>\n",
       "      <td>https://medium.com/@karpathy/software-2-0-a641...</td>\n",
       "      <td>Software 2.0 – Andrej Karpathy – Medium</td>\n",
       "      <td>I sometimes see people refer to neural network...</td>\n",
       "    </tr>\n",
       "    <tr>\n",
       "      <th>71</th>\n",
       "      <td>Dhruv Parthasarathy</td>\n",
       "      <td>4.3K</td>\n",
       "      <td>12</td>\n",
       "      <td>https://blog.athelas.com/a-brief-history-of-cn...</td>\n",
       "      <td>A Brief History of CNNs in Image Segmentation:...</td>\n",
       "      <td>At Athelas, we use Convolutional Neural Networ...</td>\n",
       "    </tr>\n",
       "    <tr>\n",
       "      <th>70</th>\n",
       "      <td>Sophia Ciocca</td>\n",
       "      <td>53K</td>\n",
       "      <td>9</td>\n",
       "      <td>https://medium.com/s/story/spotifys-discover-w...</td>\n",
       "      <td>How Does Spotify Know You So Well? – Member Fe...</td>\n",
       "      <td>Member Feature Story A software engineer expla...</td>\n",
       "    </tr>\n",
       "  </tbody>\n",
       "</table>\n",
       "</div>"
      ],
      "text/plain": [
       "                 author claps  reading_time  \\\n",
       "72      Andrej Karpathy   35K             8   \n",
       "71  Dhruv Parthasarathy  4.3K            12   \n",
       "70        Sophia Ciocca   53K             9   \n",
       "\n",
       "                                                 link  \\\n",
       "72  https://medium.com/@karpathy/software-2-0-a641...   \n",
       "71  https://blog.athelas.com/a-brief-history-of-cn...   \n",
       "70  https://medium.com/s/story/spotifys-discover-w...   \n",
       "\n",
       "                                                title  \\\n",
       "72            Software 2.0 – Andrej Karpathy – Medium   \n",
       "71  A Brief History of CNNs in Image Segmentation:...   \n",
       "70  How Does Spotify Know You So Well? – Member Fe...   \n",
       "\n",
       "                                                 text  \n",
       "72  I sometimes see people refer to neural network...  \n",
       "71  At Athelas, we use Convolutional Neural Networ...  \n",
       "70  Member Feature Story A software engineer expla...  "
      ]
     },
     "execution_count": 14,
     "metadata": {},
     "output_type": "execute_result"
    }
   ],
   "source": [
    "get_similars('data science')"
   ]
  },
  {
   "cell_type": "code",
   "execution_count": null,
   "metadata": {},
   "outputs": [],
   "source": []
  },
  {
   "cell_type": "code",
   "execution_count": null,
   "metadata": {},
   "outputs": [],
   "source": []
  }
 ],
 "metadata": {
  "kernelspec": {
   "display_name": "base",
   "language": "python",
   "name": "python3"
  },
  "language_info": {
   "codemirror_mode": {
    "name": "ipython",
    "version": 3
   },
   "file_extension": ".py",
   "mimetype": "text/x-python",
   "name": "python",
   "nbconvert_exporter": "python",
   "pygments_lexer": "ipython3",
   "version": "3.11.5"
  }
 },
 "nbformat": 4,
 "nbformat_minor": 2
}
