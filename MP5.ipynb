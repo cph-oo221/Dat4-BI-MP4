{
 "cells": [
  {
   "cell_type": "code",
   "execution_count": 1,
   "id": "8d46153c-a63e-478b-95e9-5a220d054467",
   "metadata": {},
   "outputs": [],
   "source": [
    "import pandas as pd\n",
    "import numpy as np\n",
    "from sklearn.feature_extraction.text import TfidfVectorizer\n",
    "from sklearn.metrics.pairwise import linear_kernel"
   ]
  },
  {
   "cell_type": "code",
   "execution_count": 3,
   "id": "79111a2b",
   "metadata": {},
   "outputs": [],
   "source": [
    "df = pd.read_csv('data/cleaned_articles.csv')"
   ]
  },
  {
   "cell_type": "code",
   "execution_count": 4,
   "id": "f98bf6bf",
   "metadata": {},
   "outputs": [
    {
     "ename": "NameError",
     "evalue": "name 'cosine_sim' is not defined",
     "output_type": "error",
     "traceback": [
      "\u001b[0;31m---------------------------------------------------------------------------\u001b[0m",
      "\u001b[0;31mNameError\u001b[0m                                 Traceback (most recent call last)",
      "Cell \u001b[0;32mIn[4], line 1\u001b[0m\n\u001b[0;32m----> 1\u001b[0m cosine_sim\n\u001b[1;32m      2\u001b[0m \u001b[38;5;28;01mdef\u001b[39;00m \u001b[38;5;21mvectorize\u001b[39m():\n\u001b[1;32m      3\u001b[0m     \u001b[38;5;66;03m# Define a TF-IDF Vectorizer Object, while removing all english stop words such as 'the', 'a', ...\u001b[39;00m\n\u001b[1;32m      4\u001b[0m     tfidf \u001b[38;5;241m=\u001b[39m TfidfVectorizer(stop_words\u001b[38;5;241m=\u001b[39m\u001b[38;5;124m'\u001b[39m\u001b[38;5;124menglish\u001b[39m\u001b[38;5;124m'\u001b[39m)\n",
      "\u001b[0;31mNameError\u001b[0m: name 'cosine_sim' is not defined"
     ]
    }
   ],
   "source": [
    "cosine_sim\n",
    "def vectorize():\n",
    "    # Define a TF-IDF Vectorizer Object, while removing all english stop words such as 'the', 'a', ...\n",
    "    tfidf = TfidfVectorizer(stop_words='english')\n",
    "\n",
    "    # Construct the required TF-IDF matrix by fitting and transforming the data\n",
    "    tfidf_matrix = tfidf.fit_transform(df['text'])\n",
    "    tfidf_matrix.shape\n",
    "    cosine_sim = linear_kernel(tfidf_matrix, tfidf_matrix)\n",
    "\n"
   ]
  },
  {
   "cell_type": "code",
   "execution_count": null,
   "id": "93dc36f1",
   "metadata": {},
   "outputs": [],
   "source": [
    "def get_recommendations(text, cosine_sim=cosine_sim):\n",
    "    text = text.lower()\n",
    "\n",
    "    idx = []\n",
    "\n",
    "    # iterate over articles, and add their index if content contains substring\n",
    "    for i in range(len(df)):\n",
    "        if text in df['text'][i].lower():\n",
    "            idx.append(i)\n",
    "\n",
    "    # Get the pairwsie similarity scores of all articles with that text\n",
    "    sim_scores = list(enumerate(cosine_sim[idx]))\n",
    "\n",
    "    # Sort the articles based on the similarity scores\n",
    "    sim_scores = sorted(sim_scores, reverse=True)\n",
    "\n",
    "    # Get the scores of the 3 most similar articles\n",
    "    sim_scores = sim_scores[1:4]\n",
    "\n",
    "    # Get the article indices\n",
    "    article_indices = [i[0] for i in sim_scores]\n",
    "    print(article_indices)\n",
    "\n",
    "    if article_indices == []:\n",
    "        return None\n",
    "    # Return the top 3 most similar articles\n",
    "    return df.iloc[article_indices]"
   ]
  }
 ],
 "metadata": {
  "kernelspec": {
   "display_name": "Python 3 (ipykernel)",
   "language": "python",
   "name": "python3"
  },
  "language_info": {
   "codemirror_mode": {
    "name": "ipython",
    "version": 3
   },
   "file_extension": ".py",
   "mimetype": "text/x-python",
   "name": "python",
   "nbconvert_exporter": "python",
   "pygments_lexer": "ipython3",
   "version": "3.11.5"
  }
 },
 "nbformat": 4,
 "nbformat_minor": 5
}
